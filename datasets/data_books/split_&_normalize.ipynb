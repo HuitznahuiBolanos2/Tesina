{
 "cells": [
  {
   "cell_type": "code",
   "execution_count": 15,
   "metadata": {},
   "outputs": [],
   "source": [
    "import os\n",
    "from unidecode import unidecode\n",
    "from num2words import num2words\n",
    "import re\n",
    "\n",
    "datasetFolder = './Las_Fuerzas_Extranas/'\n",
    "\n",
    "RawPath = datasetFolder + 'caps_raw/'\n",
    "LinesPath = datasetFolder + 'caps_lines/'\n",
    "NormalizedPath = datasetFolder + 'caps_lines_normalized/'"
   ]
  },
  {
   "cell_type": "markdown",
   "metadata": {},
   "source": [
    "# Split Lines"
   ]
  },
  {
   "cell_type": "code",
   "execution_count": 16,
   "metadata": {},
   "outputs": [],
   "source": [
    "def replace_all(text, dic):\n",
    "    for i, j in dic.items():\n",
    "        text = text.replace(i, j)\n",
    "    return text"
   ]
  },
  {
   "cell_type": "code",
   "execution_count": 18,
   "metadata": {},
   "outputs": [],
   "source": [
    "\n",
    "\n",
    "delims = {'.':'.\\n', ':':':\\n', ';':';\\n'}\n",
    "\n",
    "for fileName in os.listdir(RawPath):\n",
    "    if fileName.endswith(\".txt\"):\n",
    "        file = open(RawPath + fileName,'r')\n",
    "        outfile = open(LinesPath+fileName, 'w')\n",
    "        lines = file.readlines()\n",
    "        file.close()\n",
    "        for line in lines:\n",
    "            line = replace_all(line,delims)\n",
    "            newLines = line.split('\\n')\n",
    "            for newLine in newLines:\n",
    "                newLine = newLine.lstrip()\n",
    "                if len(newLine) > 1:\n",
    "                    outfile.write(newLine + '\\n')\n"
   ]
  },
  {
   "cell_type": "markdown",
   "metadata": {},
   "source": [
    "# Normalize Lines"
   ]
  },
  {
   "cell_type": "code",
   "execution_count": 2,
   "metadata": {},
   "outputs": [],
   "source": [
    "def normalizeText(line):\n",
    "    normStr = unidecode(line)\n",
    "    numbers = re.findall(r'\\d+', normStr)\n",
    "    for elem in numbers:\n",
    "        numString = num2words(elem, lang='es')\n",
    "        normStr = normStr.replace(elem,numString)\n",
    "    return normStr"
   ]
  },
  {
   "cell_type": "code",
   "execution_count": 3,
   "metadata": {},
   "outputs": [],
   "source": [
    "for fileName in os.listdir(LinesPath):\n",
    "    file = open(LinesPath + fileName, 'r')\n",
    "    lines = file.readlines()\n",
    "    file.close()\n",
    "    outfile = open(NormalizedPath + fileName, 'w')\n",
    "    for line in lines:\n",
    "        normLine = normalizeText(line)\n",
    "        outfile.write(normLine)\n",
    "    outfile.close()\n"
   ]
  }
 ],
 "metadata": {
  "kernelspec": {
   "display_name": ".venv",
   "language": "python",
   "name": "python3"
  },
  "language_info": {
   "codemirror_mode": {
    "name": "ipython",
    "version": 3
   },
   "file_extension": ".py",
   "mimetype": "text/x-python",
   "name": "python",
   "nbconvert_exporter": "python",
   "pygments_lexer": "ipython3",
   "version": "3.9.0"
  }
 },
 "nbformat": 4,
 "nbformat_minor": 2
}
